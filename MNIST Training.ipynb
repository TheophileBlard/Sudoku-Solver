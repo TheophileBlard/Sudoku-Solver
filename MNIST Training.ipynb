{
 "cells": [
  {
   "cell_type": "code",
   "execution_count": 1,
   "metadata": {},
   "outputs": [],
   "source": [
    "import os\n",
    "import tensorflow as tf\n",
    "from tensorflow import keras\n",
    "from tensorflow.keras import layers, optimizers, datasets\n",
    "\n",
    "os.environ['TF_CPP_MIN_LOG_LEVEL'] = '2'  # or any {'0', '1', '2'}\n",
    "\n",
    "def mnist_dataset():\n",
    "    (x, y), _ = datasets.mnist.load_data()\n",
    "    ds = tf.data.Dataset.from_tensor_slices((x, y))\n",
    "    ds = ds.map(prepare_mnist_features_and_labels)\n",
    "    ds = ds.take(20000).shuffle(20000).batch(100)\n",
    "    return ds\n",
    "\n",
    "def prepare_mnist_features_and_labels(x, y):\n",
    "    x = tf.cast(x, tf.float32) / 255.0\n",
    "    y = tf.cast(y, tf.int64)\n",
    "    return x, y"
   ]
  },
  {
   "cell_type": "markdown",
   "metadata": {},
   "source": [
    "# Fully-connected Network"
   ]
  },
  {
   "cell_type": "code",
   "execution_count": 3,
   "metadata": {},
   "outputs": [],
   "source": [
    "model = keras.Sequential([\n",
    "    layers.Reshape(target_shape=(28 * 28,), input_shape=(28, 28)),\n",
    "    layers.Dense(100, activation='relu'),\n",
    "    layers.Dense(100, activation='relu'),\n",
    "    layers.Dense(10)])\n",
    "\n",
    "optimizer = optimizers.Adam()"
   ]
  },
  {
   "cell_type": "code",
   "execution_count": 4,
   "metadata": {},
   "outputs": [],
   "source": [
    "@tf.function\n",
    "def compute_loss(logits, labels):\n",
    "    return tf.reduce_mean(\n",
    "        tf.nn.sparse_softmax_cross_entropy_with_logits(\n",
    "            logits=logits, labels=labels))\n",
    "\n",
    "@tf.function\n",
    "def compute_accuracy(logits, labels):\n",
    "    predictions = tf.argmax(logits, axis=1)\n",
    "    return tf.reduce_mean(tf.cast(tf.equal(predictions, labels), tf.float32))\n",
    "\n",
    "@tf.function\n",
    "def train_one_step(model, optimizer, x, y):\n",
    "    with tf.GradientTape() as tape:\n",
    "        logits = model(x)\n",
    "        loss = compute_loss(logits, y)\n",
    "        \n",
    "        # compute gradient\n",
    "        grads = tape.gradient(loss, model.trainable_variables)\n",
    "        # update to weights\n",
    "        optimizer.apply_gradients(zip(grads, model.trainable_variables))\n",
    "        \n",
    "        accuracy = compute_accuracy(logits, y)\n",
    "\n",
    "    # loss and accuracy is scalar tensor\n",
    "    return loss, accuracy\n",
    "\n",
    "def train(epoch, model, optimizer):\n",
    "    train_ds = mnist_dataset()\n",
    "    loss = 0.0\n",
    "    accuracy = 0.0\n",
    "    for step, (x, y) in enumerate(train_ds):\n",
    "        loss, accuracy = train_one_step(model, optimizer, x, y)\n",
    "\n",
    "        if step % 500 == 0:\n",
    "            print('epoch', epoch, ': loss', loss.numpy(), '; accuracy', accuracy.numpy())\n",
    "\n",
    "    return loss, accuracy"
   ]
  },
  {
   "cell_type": "code",
   "execution_count": 5,
   "metadata": {},
   "outputs": [
    {
     "name": "stdout",
     "output_type": "stream",
     "text": [
      "epoch 0 : loss 2.3122826 ; accuracy 0.11\n",
      "epoch 1 : loss 0.14781065 ; accuracy 0.96\n",
      "epoch 2 : loss 0.1957429 ; accuracy 0.91\n",
      "epoch 3 : loss 0.12940712 ; accuracy 0.94\n",
      "epoch 4 : loss 0.04160511 ; accuracy 0.99\n",
      "epoch 5 : loss 0.06092364 ; accuracy 0.99\n",
      "epoch 6 : loss 0.02905951 ; accuracy 0.99\n",
      "epoch 7 : loss 0.12544249 ; accuracy 0.95\n",
      "epoch 8 : loss 0.01791113 ; accuracy 1.0\n",
      "epoch 9 : loss 0.0038799262 ; accuracy 1.0\n",
      "epoch 10 : loss 0.017705748 ; accuracy 1.0\n",
      "epoch 11 : loss 0.02343543 ; accuracy 0.99\n",
      "epoch 12 : loss 0.0103632165 ; accuracy 1.0\n",
      "epoch 13 : loss 0.015506345 ; accuracy 0.99\n",
      "epoch 14 : loss 0.0051391716 ; accuracy 1.0\n",
      "epoch 15 : loss 0.0034456858 ; accuracy 1.0\n",
      "epoch 16 : loss 0.009956448 ; accuracy 1.0\n",
      "epoch 17 : loss 0.0031556296 ; accuracy 1.0\n",
      "epoch 18 : loss 0.0030086457 ; accuracy 1.0\n",
      "epoch 19 : loss 0.001498969 ; accuracy 1.0\n",
      "Final epoch 19 : loss 0.0009759335 ; accuracy 1.0\n"
     ]
    }
   ],
   "source": [
    "for epoch in range(20):\n",
    "    loss, accuracy = train(epoch, model, optimizer)\n",
    "\n",
    "print('Final epoch', epoch, ': loss', loss.numpy(), '; accuracy', accuracy.numpy())"
   ]
  },
  {
   "cell_type": "code",
   "execution_count": 12,
   "metadata": {},
   "outputs": [],
   "source": [
    "# load dataset create predictions on the test set\n",
    "(x_train, y_train), (x_test, y_test) = datasets.mnist.load_data()\n",
    "ds = tf.data.Dataset.from_tensor_slices((x_test, y_test))\n",
    "ds = ds.map(prepare_mnist_features_and_labels)\n",
    "\n",
    "predicted_classes = model.predict_classes(x_test)"
   ]
  },
  {
   "cell_type": "code",
   "execution_count": 16,
   "metadata": {},
   "outputs": [
    {
     "name": "stdout",
     "output_type": "stream",
     "text": [
      "\n",
      "9707  classified correctly\n",
      "293  classified incorrectly\n"
     ]
    }
   ],
   "source": [
    "import numpy as np\n",
    "import matplotlib.pyplot as plt\n",
    "\n",
    "# see which we predicted correctly and which not\n",
    "correct_indices = np.nonzero(predicted_classes == y_test)[0]\n",
    "incorrect_indices = np.nonzero(predicted_classes != y_test)[0]\n",
    "print()\n",
    "print(len(correct_indices),\" classified correctly\")\n",
    "print(len(incorrect_indices),\" classified incorrectly\")"
   ]
  },
  {
   "cell_type": "code",
   "execution_count": 30,
   "metadata": {},
   "outputs": [
    {
     "data": {
      "text/plain": [
       "0.9707"
      ]
     },
     "execution_count": 30,
     "metadata": {},
     "output_type": "execute_result"
    }
   ],
   "source": [
    "len(correct_indices) / (len(predicted_classes))"
   ]
  },
  {
   "cell_type": "code",
   "execution_count": 18,
   "metadata": {},
   "outputs": [
    {
     "data": {
      "image/png": "[encoded data removed]",
      "text/plain": [
       "<Figure size 504x1008 with 9 Axes>"
      ]
     },
     "metadata": {},
     "output_type": "display_data"
    }
   ],
   "source": [
    "# adapt figure size to accomodate 18 subplots\n",
    "plt.rcParams['figure.figsize'] = (7,14)\n",
    "\n",
    "figure_evaluation = plt.figure()\n",
    "\n",
    "# plot 9 correct predictions\n",
    "for i, correct in enumerate(correct_indices[:9]):\n",
    "    plt.subplot(6,3,i+1)\n",
    "    plt.imshow(x_test[correct].reshape(28,28), cmap='gray', interpolation='none')\n",
    "    plt.title(\n",
    "      \"Predicted: {}, Truth: {}\".format(predicted_classes[correct],\n",
    "                                        y_test[correct]))\n",
    "    plt.xticks([])\n",
    "    plt.yticks([])"
   ]
  },
  {
   "cell_type": "code",
   "execution_count": 21,
   "metadata": {},
   "outputs": [
    {
     "data": {
      "image/png": "[encoded data removed]",
      "text/plain": [
       "<Figure size 504x1008 with 9 Axes>"
      ]
     },
     "metadata": {},
     "output_type": "display_data"
    }
   ],
   "source": [
    "# plot 9 incorrect predictions\n",
    "for i, incorrect in enumerate(incorrect_indices[:9]):\n",
    "    plt.subplot(6,3,i+10)\n",
    "    plt.imshow(x_test[incorrect].reshape(28,28), cmap='gray', interpolation='none')\n",
    "    plt.title(\n",
    "      \"Predicted {}, Truth: {}\".format(predicted_classes[incorrect], \n",
    "                                       y_test[incorrect]))\n",
    "    plt.xticks([])\n",
    "    plt.yticks([])"
   ]
  },
  {
   "cell_type": "markdown",
   "metadata": {},
   "source": [
    "# Convolutional Network"
   ]
  },
  {
   "cell_type": "code",
   "execution_count": 23,
   "metadata": {},
   "outputs": [],
   "source": [
    "import os\n",
    "import time\n",
    "import numpy as np\n",
    "import tensorflow as tf\n",
    "from tensorflow.python.ops import summary_ops_v2\n",
    "from tensorflow import keras\n",
    "from tensorflow.keras import datasets, layers, models, optimizers, metrics\n",
    "\n",
    "os.environ['TF_CPP_MIN_LOG_LEVEL'] = '2'  # or any {'0', '1', '2'}\n",
    "\n",
    "\n",
    "def mnist_datasets():\n",
    "    (x_train, y_train), (x_test, y_test) = datasets.mnist.load_data()\n",
    "    # Numpy defaults to dtype=float64; TF defaults to float32. Stick with float32.\n",
    "    x_train, x_test = x_train / np.float32(255), x_test / np.float32(255)\n",
    "    y_train, y_test = y_train.astype(np.int64), y_test.astype(np.int64)\n",
    "    train_dataset = tf.data.Dataset.from_tensor_slices((x_train, y_train))\n",
    "    test_dataset = tf.data.Dataset.from_tensor_slices((x_test, y_test))\n",
    "    return train_dataset, test_dataset"
   ]
  },
  {
   "cell_type": "code",
   "execution_count": 24,
   "metadata": {},
   "outputs": [],
   "source": [
    "train_ds, test_ds = mnist_datasets()\n",
    "train_ds = train_ds.shuffle(60000).batch(100)\n",
    "test_ds = test_ds.batch(100)"
   ]
  },
  {
   "cell_type": "code",
   "execution_count": 25,
   "metadata": {},
   "outputs": [],
   "source": [
    "model = tf.keras.Sequential([\n",
    "    layers.Reshape(\n",
    "        target_shape=[28, 28, 1],\n",
    "        input_shape=(28, 28,)),\n",
    "    layers.Conv2D(2, 5, padding='same', activation=tf.nn.relu),\n",
    "    layers.MaxPooling2D((2, 2), (2, 2), padding='same'),\n",
    "    layers.Conv2D(4, 5, padding='same', activation=tf.nn.relu),\n",
    "    layers.MaxPooling2D((2, 2), (2, 2), padding='same'),\n",
    "    layers.Flatten(),\n",
    "    layers.Dense(32, activation=tf.nn.relu),\n",
    "    layers.Dropout(rate=0.4),\n",
    "    layers.Dense(10)])\n",
    "\n",
    "optimizer = optimizers.SGD(learning_rate=0.01, momentum=0.5)"
   ]
  },
  {
   "cell_type": "code",
   "execution_count": 26,
   "metadata": {},
   "outputs": [],
   "source": [
    "compute_loss = tf.keras.losses.SparseCategoricalCrossentropy(from_logits=True)\n",
    "compute_accuracy = tf.keras.metrics.SparseCategoricalAccuracy()\n",
    "\n",
    "def train_step(model, optimizer, images, labels):\n",
    "\n",
    "    # Record the operations used to compute the loss, so that the gradient\n",
    "    # of the loss with respect to the variables can be computed.\n",
    "    with tf.GradientTape() as tape:\n",
    "        logits = model(images, training=True)\n",
    "        loss = compute_loss(labels, logits)\n",
    "        compute_accuracy(labels, logits)\n",
    "\n",
    "    grads = tape.gradient(loss, model.trainable_variables)\n",
    "    optimizer.apply_gradients(zip(grads, model.trainable_variables))\n",
    "\n",
    "    return loss\n",
    "\n",
    "def train(model, optimizer, dataset, log_freq=50):\n",
    "    \"\"\"\n",
    "    Trains model on `dataset` using `optimizer`.\n",
    "    \"\"\"\n",
    "    # Metrics are stateful. They accumulate values and return a cumulative\n",
    "    # result when you call .result(). Clear accumulated values with .reset_states()\n",
    "    avg_loss = metrics.Mean('loss', dtype=tf.float32)\n",
    "\n",
    "    # Datasets can be iterated over like any other Python iterable.\n",
    "    for images, labels in dataset:\n",
    "        loss = train_step(model, optimizer, images, labels)\n",
    "        avg_loss(loss)\n",
    "\n",
    "        if tf.equal(optimizer.iterations % log_freq, 0):\n",
    "            # summary_ops_v2.scalar('loss', avg_loss.result(), step=optimizer.iterations)\n",
    "            # summary_ops_v2.scalar('accuracy', compute_accuracy.result(), step=optimizer.iterations)\n",
    "            print('step:', int(optimizer.iterations),\n",
    "                  'loss:', avg_loss.result().numpy(),\n",
    "                  'acc:', compute_accuracy.result().numpy())\n",
    "            avg_loss.reset_states()\n",
    "            compute_accuracy.reset_states()\n",
    "\n",
    "def test(model, dataset, step_num):\n",
    "    \"\"\"\n",
    "    Perform an evaluation of `model` on the examples from `dataset`.\n",
    "    \"\"\"\n",
    "    avg_loss = metrics.Mean('loss', dtype=tf.float32)\n",
    "\n",
    "    for (images, labels) in dataset:\n",
    "        logits = model(images, training=False)\n",
    "        avg_loss(compute_loss(labels, logits))\n",
    "        compute_accuracy(labels, logits)\n",
    "\n",
    "    print('Model test set loss: {:0.4f} accuracy: {:0.2f}%'.format(\n",
    "        avg_loss.result(), compute_accuracy.result() * 100))\n",
    "\n",
    "    print('loss:', avg_loss.result(), 'acc:', compute_accuracy.result())\n",
    "    # summary_ops_v2.scalar('loss', avg_loss.result(), step=step_num)\n",
    "    # summary_ops_v2.scalar('accuracy', compute_accuracy.result(), step=step_num)"
   ]
  },
  {
   "cell_type": "code",
   "execution_count": 27,
   "metadata": {},
   "outputs": [
    {
     "data": {
      "text/plain": [
       "<tensorflow.python.training.tracking.util.InitializationOnlyStatus at 0x7f9e7877df28>"
      ]
     },
     "execution_count": 27,
     "metadata": {},
     "output_type": "execute_result"
    }
   ],
   "source": [
    "# Where to save checkpoints, tensorboard summaries, etc.\n",
    "MODEL_DIR = '/tmp/tensorflow/mnist'\n",
    "\n",
    "\n",
    "def apply_clean():\n",
    "    if tf.io.gfile.exists(MODEL_DIR):\n",
    "        print('Removing existing model dir: {}'.format(MODEL_DIR))\n",
    "        tf.io.gfile.rmtree(MODEL_DIR)\n",
    "\n",
    "\n",
    "apply_clean()\n",
    "\n",
    "checkpoint_dir = os.path.join(MODEL_DIR, 'checkpoints')\n",
    "checkpoint_prefix = os.path.join(checkpoint_dir, 'ckpt')\n",
    "\n",
    "checkpoint = tf.train.Checkpoint(model=model, optimizer=optimizer)\n",
    "\n",
    "# Restore variables on creation if a checkpoint exists.\n",
    "checkpoint.restore(tf.train.latest_checkpoint(checkpoint_dir))"
   ]
  },
  {
   "cell_type": "code",
   "execution_count": 31,
   "metadata": {},
   "outputs": [
    {
     "name": "stdout",
     "output_type": "stream",
     "text": [
      "step: 3500 loss: 0.28377223 acc: 0.91218\n",
      "Train time for epoch #1 (3600 total steps): 23.26662850379944\n",
      "saved checkpoint.\n",
      "step: 4000 loss: 0.2680242 acc: 0.91614\n",
      "Train time for epoch #2 (4200 total steps): 22.813820123672485\n",
      "saved checkpoint.\n",
      "step: 4500 loss: 0.24334627 acc: 0.92176\n",
      "Train time for epoch #3 (4800 total steps): 23.23741054534912\n",
      "saved checkpoint.\n",
      "step: 5000 loss: 0.24220166 acc: 0.92228\n",
      "Train time for epoch #4 (5400 total steps): 23.28403377532959\n",
      "saved checkpoint.\n",
      "step: 5500 loss: 0.2355132 acc: 0.92748\n",
      "step: 6000 loss: 0.22779463 acc: 0.92948\n",
      "Train time for epoch #5 (6000 total steps): 23.440163135528564\n",
      "saved checkpoint.\n",
      "step: 6500 loss: 0.21894982 acc: 0.9319\n",
      "Train time for epoch #6 (6600 total steps): 23.209276914596558\n",
      "saved checkpoint.\n",
      "step: 7000 loss: 0.21226624 acc: 0.93428\n",
      "Train time for epoch #7 (7200 total steps): 23.692888021469116\n",
      "saved checkpoint.\n",
      "step: 7500 loss: 0.20354074 acc: 0.93538\n",
      "Train time for epoch #8 (7800 total steps): 23.308234453201294\n",
      "saved checkpoint.\n",
      "step: 8000 loss: 0.20056738 acc: 0.93626\n",
      "Train time for epoch #9 (8400 total steps): 23.262949228286743\n",
      "saved checkpoint.\n",
      "step: 8500 loss: 0.21379125 acc: 0.93796\n",
      "step: 9000 loss: 0.19438988 acc: 0.93926\n",
      "Train time for epoch #10 (9000 total steps): 24.083597660064697\n",
      "saved checkpoint.\n",
      "INFO:tensorflow:Assets written to: /tmp/tensorflow/mnist/export/assets\n",
      "saved SavedModel for exporting.\n"
     ]
    }
   ],
   "source": [
    "NUM_TRAIN_EPOCHS = 10\n",
    "\n",
    "for i in range(NUM_TRAIN_EPOCHS):\n",
    "    start = time.time()\n",
    "    #   with train_summary_writer.as_default():\n",
    "    train(model, optimizer, train_ds, log_freq=500)\n",
    "    end = time.time()\n",
    "    print('Train time for epoch #{} ({} total steps): {}'.format(\n",
    "        i + 1, int(optimizer.iterations), end - start))\n",
    "    #   with test_summary_writer.as_default():\n",
    "    #     test(model, test_ds, optimizer.iterations)\n",
    "    checkpoint.save(checkpoint_prefix)\n",
    "    print('saved checkpoint.')\n",
    "\n",
    "export_path = os.path.join(MODEL_DIR, 'export')\n",
    "tf.saved_model.save(model, export_path)\n",
    "print('saved SavedModel for exporting.')"
   ]
  }
 ],
 "metadata": {
  "kernelspec": {
   "display_name": "Python 3",
   "language": "python",
   "name": "python3"
  },
  "language_info": {
   "codemirror_mode": {
    "name": "ipython",
    "version": 3
   },
   "file_extension": ".py",
   "mimetype": "text/x-python",
   "name": "python",
   "nbconvert_exporter": "python",
   "pygments_lexer": "ipython3",
   "version": "3.6.7"
  },
  "toc": {
   "base_numbering": 1,
   "nav_menu": {},
   "number_sections": true,
   "sideBar": true,
   "skip_h1_title": false,
   "title_cell": "Table of Contents",
   "title_sidebar": "Contents",
   "toc_cell": false,
   "toc_position": {},
   "toc_section_display": true,
   "toc_window_display": false
  }
 },
 "nbformat": 4,
 "nbformat_minor": 2
}
